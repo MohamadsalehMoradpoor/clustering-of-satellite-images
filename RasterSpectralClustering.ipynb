{
 "cells": [
  {
   "cell_type": "code",
   "execution_count": 2,
   "id": "27945045",
   "metadata": {},
   "outputs": [
    {
     "name": "stderr",
     "output_type": "stream",
     "text": [
      "C:\\Users\\Hacker\\anaconda3\\lib\\site-packages\\scipy\\__init__.py:146: UserWarning: A NumPy version >=1.16.5 and <1.23.0 is required for this version of SciPy (detected version 1.23.4\n",
      "  warnings.warn(f\"A NumPy version >={np_minversion} and <{np_maxversion}\"\n"
     ]
    }
   ],
   "source": [
    "import rasterio\n",
    "from rasterio.plot import show\n",
    "from sklearn.cluster import SpectralClustering\n",
    "import matplotlib.pyplot as plt\n",
    "import numpy as np"
   ]
  },
  {
   "cell_type": "code",
   "execution_count": 3,
   "id": "6744069a",
   "metadata": {},
   "outputs": [],
   "source": [
    "image = rasterio.open('GRAY_HR_SR_OB.tif')"
   ]
  },
  {
   "cell_type": "code",
   "execution_count": 4,
   "id": "574c27b6",
   "metadata": {},
   "outputs": [
    {
     "data": {
      "text/plain": [
       "{'driver': 'GTiff',\n",
       " 'dtype': 'uint8',\n",
       " 'nodata': None,\n",
       " 'width': 21600,\n",
       " 'height': 10800,\n",
       " 'count': 1,\n",
       " 'crs': CRS.from_epsg(4326),\n",
       " 'transform': Affine(0.01666666666667, 0.0, -180.0,\n",
       "        0.0, -0.01666666666667, 90.00000000000001)}"
      ]
     },
     "execution_count": 4,
     "metadata": {},
     "output_type": "execute_result"
    }
   ],
   "source": [
    "image.meta"
   ]
  },
  {
   "cell_type": "code",
   "execution_count": 5,
   "id": "8ebe3a44",
   "metadata": {},
   "outputs": [],
   "source": [
    "image_arr = image.read()"
   ]
  },
  {
   "cell_type": "code",
   "execution_count": 6,
   "id": "45c80b70",
   "metadata": {},
   "outputs": [
    {
     "data": {
      "text/plain": [
       "(1, 10800, 21600)"
      ]
     },
     "execution_count": 6,
     "metadata": {},
     "output_type": "execute_result"
    }
   ],
   "source": [
    "np.shape(image_arr)"
   ]
  },
  {
   "cell_type": "code",
   "execution_count": 7,
   "id": "4550b6c3",
   "metadata": {},
   "outputs": [
    {
     "data": {
      "text/plain": [
       "<matplotlib.image.AxesImage at 0x2aa4d7e62b0>"
      ]
     },
     "execution_count": 7,
     "metadata": {},
     "output_type": "execute_result"
    },
    {
     "data": {
      "image/png": "[encoded data removed]",
      "text/plain": [
       "<Figure size 432x288 with 1 Axes>"
      ]
     },
     "metadata": {
      "needs_background": "light"
     },
     "output_type": "display_data"
    }
   ],
   "source": [
    "plt.imshow(image_arr[0][3120:3170, 13750:13800], cmap='gray')"
   ]
  },
  {
   "cell_type": "code",
   "execution_count": 8,
   "id": "9f51f4a9",
   "metadata": {},
   "outputs": [],
   "source": [
    "hormoz_image = image_arr[0][3120:3170, 13750:13800]"
   ]
  },
  {
   "cell_type": "code",
   "execution_count": 9,
   "id": "1e52c977",
   "metadata": {},
   "outputs": [
    {
     "data": {
      "text/plain": [
       "(50, 50)"
      ]
     },
     "execution_count": 9,
     "metadata": {},
     "output_type": "execute_result"
    }
   ],
   "source": [
    "np.shape(hormoz_image)"
   ]
  },
  {
   "cell_type": "code",
   "execution_count": 10,
   "id": "b6d24f7f",
   "metadata": {},
   "outputs": [],
   "source": [
    "from sklearn.feature_extraction import image"
   ]
  },
  {
   "cell_type": "code",
   "execution_count": 11,
   "id": "3ebc59dc",
   "metadata": {},
   "outputs": [
    {
     "data": {
      "text/plain": [
       "<2500x2500 sparse matrix of type '<class 'numpy.uint8'>'\n",
       "\twith 12300 stored elements in COOrdinate format>"
      ]
     },
     "execution_count": 11,
     "metadata": {},
     "output_type": "execute_result"
    }
   ],
   "source": [
    "image.img_to_graph(hormoz_image)"
   ]
  },
  {
   "cell_type": "code",
   "execution_count": 12,
   "id": "7ab1f0c5",
   "metadata": {},
   "outputs": [],
   "source": [
    "cm = image.img_to_graph(hormoz_image)"
   ]
  },
  {
   "cell_type": "code",
   "execution_count": 14,
   "id": "421acd64",
   "metadata": {},
   "outputs": [],
   "source": [
    "cm.data  = np.exp(-cm.data / cm.data.std())"
   ]
  },
  {
   "cell_type": "code",
   "execution_count": null,
   "id": "4a5ed551",
   "metadata": {},
   "outputs": [
    {
     "name": "stderr",
     "output_type": "stream",
     "text": [
      "C:\\Users\\Hacker\\anaconda3\\lib\\site-packages\\sklearn\\cluster\\_spectral.py:658: UserWarning: The spectral clustering API has changed. ``fit``now constructs an affinity matrix from data. To use a custom affinity matrix, set ``affinity=precomputed``.\n",
      "  warnings.warn(\n",
      "C:\\Users\\Hacker\\anaconda3\\lib\\site-packages\\sklearn\\manifold\\_spectral_embedding.py:259: UserWarning: Graph is not fully connected, spectral embedding may not work as expected.\n",
      "  warnings.warn(\n"
     ]
    }
   ],
   "source": [
    "sc = SpectralClustering(n_clusters=2, n_jobs=-1, assign_labels='cluster_qr')\n",
    "sc.fit(cm)"
   ]
  },
  {
   "cell_type": "code",
   "execution_count": null,
   "id": "b4a5c324",
   "metadata": {},
   "outputs": [],
   "source": [
    "labels = sc.labels_"
   ]
  },
  {
   "cell_type": "code",
   "execution_count": null,
   "id": "74f7be65",
   "metadata": {},
   "outputs": [],
   "source": [
    "np.unique(labels, return_counts=True)"
   ]
  },
  {
   "cell_type": "code",
   "execution_count": null,
   "id": "9d4e7284",
   "metadata": {},
   "outputs": [],
   "source": [
    "labels_im = np.full(np.shape(hormoz_image), -1.)"
   ]
  },
  {
   "cell_type": "code",
   "execution_count": null,
   "id": "2715a38e",
   "metadata": {},
   "outputs": [],
   "source": [
    "labels_im"
   ]
  },
  {
   "cell_type": "code",
   "execution_count": null,
   "id": "4af28164",
   "metadata": {},
   "outputs": [],
   "source": [
    "hormoz_cls = hormoz_image.astype(bool)\n",
    "labels_im[hormoz_cls] = labels"
   ]
  },
  {
   "cell_type": "code",
   "execution_count": null,
   "id": "ddbbe3d9",
   "metadata": {},
   "outputs": [],
   "source": [
    "hormoz_cls"
   ]
  },
  {
   "cell_type": "code",
   "execution_count": null,
   "id": "67b6402b",
   "metadata": {},
   "outputs": [],
   "source": [
    "labels_im"
   ]
  },
  {
   "cell_type": "code",
   "execution_count": null,
   "id": "ce09ba66",
   "metadata": {},
   "outputs": [],
   "source": [
    "hormoz_image"
   ]
  },
  {
   "cell_type": "code",
   "execution_count": null,
   "id": "96ec3cd5",
   "metadata": {},
   "outputs": [],
   "source": [
    "plt.matshow(labels_im)\n",
    "plt.matshow(hormoz_image)"
   ]
  }
 ],
 "metadata": {
  "kernelspec": {
   "display_name": "Python 3 (ipykernel)",
   "language": "python",
   "name": "python3"
  },
  "language_info": {
   "codemirror_mode": {
    "name": "ipython",
    "version": 3
   },
   "file_extension": ".py",
   "mimetype": "text/x-python",
   "name": "python",
   "nbconvert_exporter": "python",
   "pygments_lexer": "ipython3",
   "version": "3.9.12"
  }
 },
 "nbformat": 4,
 "nbformat_minor": 5
}
